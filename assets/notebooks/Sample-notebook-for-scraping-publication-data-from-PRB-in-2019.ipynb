{
 "cells": [
  {
   "cell_type": "markdown",
   "id": "734229bb",
   "metadata": {},
   "source": [
    "# Scraping all issue data and citations from PRB in 2019"
   ]
  },
  {
   "cell_type": "markdown",
   "id": "530db317",
   "metadata": {},
   "source": [
    "*Ben McKeever 2023*\n",
    "\n",
    "Example notebook showing how to use the python package to download and cache all citation data from PRB in 2019.\n",
    "\n",
    "It may be of interest to also see:\n",
    "\n",
    "* [Notebook for data analysis and visualisations of the dataset](Data-Analysis-and-Visualisations-PRB-dataset.ipynb)\n",
    "* [Notebook outlining details of the data collection via web scraping of PRBs website](Web-scraping-Physical-Review-B-workbook.ipynb)"
   ]
  },
  {
   "cell_type": "code",
   "execution_count": null,
   "id": "9c3039df",
   "metadata": {},
   "outputs": [],
   "source": [
    "import time\n",
    "import random\n",
    "\n",
    "import pandas as pd\n",
    "from scrape.data import get_citation_data, get_issue_data"
   ]
  },
  {
   "cell_type": "markdown",
   "id": "5f51a40d",
   "metadata": {},
   "source": [
    "## Download and cache data for issue 99/5"
   ]
  },
  {
   "cell_type": "code",
   "execution_count": null,
   "id": "995b6f37",
   "metadata": {},
   "outputs": [],
   "source": [
    "url = 'https://journals.aps.org/prb/issues/99/5'\n",
    "df = get_issue_data(url=url,force_download=True)"
   ]
  },
  {
   "cell_type": "code",
   "execution_count": null,
   "id": "ff8340e9",
   "metadata": {},
   "outputs": [],
   "source": [
    "!head -2 issue_99_5.csv"
   ]
  },
  {
   "cell_type": "code",
   "execution_count": null,
   "id": "34f17abb",
   "metadata": {},
   "outputs": [],
   "source": [
    "df = get_citation_data(infile='issue_99_5.csv',\n",
    "                       outfile='citations_issue_99_5.csv',\n",
    "                       force_download=True)"
   ]
  },
  {
   "cell_type": "markdown",
   "id": "746cc80f",
   "metadata": {},
   "source": [
    "## Download and cache all issue data from 2019"
   ]
  },
  {
   "cell_type": "markdown",
   "id": "d32e708d",
   "metadata": {},
   "source": [
    "Note: this makes requests to 48 urls, with a random 1-5 second time delay in between each request.  "
   ]
  },
  {
   "cell_type": "code",
   "execution_count": null,
   "id": "0a070976",
   "metadata": {},
   "outputs": [],
   "source": [
    "url_list = [f'https://journals.aps.org/prb/issues/{j}/' \n",
    "            + str(i+1) for j in [99,100] for i in range(24)]\n",
    "df_list = []\n",
    "for u in url_list:\n",
    "    df_list.append(get_issue_data(url = u))\n",
    "    time.sleep(random.randint(1,5)) # wait a bit before sending another request\n",
    "    \n",
    "df = pd.concat(df_list)\n",
    "df.to_csv('all_issues_2019_no_citation_data.csv')"
   ]
  },
  {
   "cell_type": "markdown",
   "id": "6be99c7d",
   "metadata": {},
   "source": [
    "## Download and cache all citation data from 2019"
   ]
  },
  {
   "cell_type": "markdown",
   "id": "3752cfe8",
   "metadata": {},
   "source": [
    "Note: this makes requests to ~4500 different URLs, with a random 1-5 second time delay in between each request.\n",
    "\n",
    "Go watch a movie or two if running this code!"
   ]
  },
  {
   "cell_type": "code",
   "execution_count": null,
   "id": "700c64d7",
   "metadata": {},
   "outputs": [],
   "source": [
    "from datetime import date\n",
    "today = date.today()"
   ]
  },
  {
   "cell_type": "code",
   "execution_count": null,
   "id": "92f55cb0",
   "metadata": {},
   "outputs": [],
   "source": [
    "input_csv_list = [f'issue_{j}_{i+1}.csv' for j in [99,100] for i in range(24)]\n",
    "output_csv_list = ['citations_' + csv for csv in input_csv_list]\n",
    "\n",
    "df_list = []\n",
    "\n",
    "for i,o in zip(input_csv_list,output_csv_list):\n",
    "    df_list.append(get_citation_data(i,o))\n",
    "\n",
    "df = pd.concat(df_list)\n",
    "\n",
    "df.to_csv(f\"data_{today}.csv\")"
   ]
  }
 ],
 "metadata": {
  "kernelspec": {
   "display_name": "python3.11",
   "language": "python",
   "name": "python3.11"
  },
  "language_info": {
   "codemirror_mode": {
    "name": "ipython",
    "version": 3
   },
   "file_extension": ".py",
   "mimetype": "text/x-python",
   "name": "python",
   "nbconvert_exporter": "python",
   "pygments_lexer": "ipython3",
   "version": "3.11.4"
  }
 },
 "nbformat": 4,
 "nbformat_minor": 5
}
