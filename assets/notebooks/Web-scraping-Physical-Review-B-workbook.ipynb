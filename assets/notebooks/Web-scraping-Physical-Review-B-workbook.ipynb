{
 "cells": [
  {
   "cell_type": "code",
   "execution_count": 1,
   "id": "c3f5c9c4",
   "metadata": {},
   "outputs": [],
   "source": [
    "import os\n",
    "import time\n",
    "import random\n",
    "\n",
    "import requests\n",
    "from scrapy import Selector\n",
    "from bs4 import BeautifulSoup\n",
    "import pandas as pd"
   ]
  },
  {
   "cell_type": "markdown",
   "id": "0c5f5b60",
   "metadata": {},
   "source": [
    "# Web scraping Physical Review B with Scrapy"
   ]
  },
  {
   "cell_type": "markdown",
   "id": "f5eab533",
   "metadata": {},
   "source": [
    "*Ben McKeever 2023*\n",
    "\n",
    "Notebook for extracting citation data from papers published in PRB in 2019. \n",
    "\n",
    "The results of the exploratory web scraping in this notebook have been released as a [python package]() for convenience / reusability. It may be of interest to see further jupyter notebooks in this repo:\n",
    "\n",
    "* [Sample notebook for use of the python package](Sample-notebook-for-scraping-publication-data-from-PRB-in-2019.ipynb)\n",
    "* [Notebook for data analysis and visualisations of the dataset](Data-Analysis-and-Visualisations-PRB-dataset.ipynb)\n"
   ]
  },
  {
   "cell_type": "markdown",
   "id": "63462de9",
   "metadata": {},
   "source": [
    "## Introduction"
   ]
  },
  {
   "cell_type": "markdown",
   "id": "0163679b",
   "metadata": {},
   "source": [
    "Volumes and Issues of PRB are located at the URL https://journals.aps.org/prb/issues/   \n",
    "Some initial notes:\n",
    "\n",
    "* There are 2 Volumes each year in the journal\n",
    "    * Volume 99 is for the first half of 2019 and contains 24 issues (from issue 99/1 to issue 99/24). \n",
    "    * Volume 100 is for the second half of 2019 with 24 more issues from 100/1 to 100/24.\n",
    "* Every second issue also contains a *Rapid Communications* section, for research papers expedited for publication. I won't bother identifying which papers fall under this label, but instead will just focus on whether or not they are highlighted by the editors."
   ]
  },
  {
   "cell_type": "markdown",
   "id": "8f8c518c",
   "metadata": {},
   "source": [
    "Strategy for the web scraping:\n",
    "\n",
    "1. From the web page of each issue (48 such web pages), scrape all of the interesting information to a new csv file.\n",
    "1. Import all data into one Pandas DataFrame with `pd.read_csv()` and `pd.concat()`.\n",
    "1. Separately scrape the number of citations (and maybe abstract) from each article's webpage (approx 90 x 48 such pages).\n",
    "1. Update the dataframe with number of citations (and maybe abstract)\n",
    "\n",
    "Structure of this notebook:\n",
    "\n",
    "* Section 1: Obtaining article info from issue web pages: (`doi`, `section`, `authors`, `name`, `date_published`, `issue_number`)\n",
    "    * Section 1a: Extension to every issue in 2019\n",
    "* Section 2: Obtaining number of citations `prb_citations` for each article."
   ]
  },
  {
   "cell_type": "markdown",
   "id": "bee088dc",
   "metadata": {},
   "source": [
    "## 1: Web scraping a particular issue (99/5)"
   ]
  },
  {
   "cell_type": "markdown",
   "id": "be8f5701",
   "metadata": {},
   "source": [
    "Fields to obtain:\n",
    "\n",
    "* ✅ `doi` : (string) Digital Object Identifier -- the unique key for each research paper. Our DataFrame index.\n",
    "* ✅ `section`: (string) The subfield of condensed matter physics the paper is placed in by the editors.\n",
    "* ✅ `date_published`: (string) This has the format *DD Month-name YEAR*, e.g. 01 January 2019. \n",
    "* ✅ `name` : (string) The name of the research article.\n",
    "* ✅ `issue`: (string) Identifies to which publication the article belongs. Has the format \"Volume/Issue\", so 99/5 in this case.\n",
    "* ✅ `is_highlighted`: (bool) Signifies if the article is highlighted or not by the editors.'\n",
    "\n",
    "When we read in the data cached locally with `pd.read_csv` we can use `parse_dates` on the `date_published` column to convert it to a datetime object. "
   ]
  },
  {
   "cell_type": "markdown",
   "id": "e4c7b447",
   "metadata": {},
   "source": [
    "### Retrieving DOIs and corresponding section names"
   ]
  },
  {
   "cell_type": "markdown",
   "id": "69d3618e",
   "metadata": {},
   "source": [
    "Get html data into a Scrapy Selector object:"
   ]
  },
  {
   "cell_type": "code",
   "execution_count": 2,
   "id": "733f381e",
   "metadata": {},
   "outputs": [],
   "source": [
    "url = 'https://journals.aps.org/prb/issues/99/5'\n",
    "html = requests.get(url).content\n",
    "sel = Selector(text = html)"
   ]
  },
  {
   "cell_type": "markdown",
   "id": "55720cf2",
   "metadata": {},
   "source": [
    "Highlighted articles appear twice on the web page -- once at the top of the page, and once in each section.  \n",
    "Therefore collecting {doi: section} pairs makes sense to do first before locating other information, to avoid any duplicates appearing in the data."
   ]
  },
  {
   "cell_type": "code",
   "execution_count": 3,
   "id": "8ddaa406",
   "metadata": {},
   "outputs": [],
   "source": [
    "def to_kebab_case(value):\n",
    "    return \"-\".join(value.lower().split()).replace(\",\",\"\")\n",
    "\n",
    "# List of the 5 sections of condensed matter physics for issue 99/5\n",
    "sections = [\n",
    "    'Structure, structural phase transitions, mechanical properties, defects',\n",
    "    'Inhomogeneous, disordered, and partially ordered systems',\n",
    "    'Dynamics, dynamical systems, lattice effects',\n",
    "    'Magnetism',\n",
    "    'Superfluidity and superconductivity'    \n",
    "]\n",
    "\n",
    "sections_kebab_case = [\"sect-articles-\" + to_kebab_case(s) for s in sections]"
   ]
  },
  {
   "cell_type": "code",
   "execution_count": 4,
   "id": "6d636a73",
   "metadata": {},
   "outputs": [],
   "source": [
    "sections_dict = dict()\n",
    "doi_xpath = '..//div[@class=\"article panel article-result\"]/@data-id'\n",
    "\n",
    "for sec in sections_kebab_case:\n",
    "    section_selector = sel.xpath('//a[@name=\"{}\"]'.format(sec))\n",
    "    dois = section_selector.xpath(doi_xpath).extract()\n",
    "    sections_dict.update({doi:sec for doi in dois})\n",
    "\n",
    "unique_dois = list(set(sections_dict.keys())) # ensure no duplicates"
   ]
  },
  {
   "cell_type": "markdown",
   "id": "8cc08d84",
   "metadata": {},
   "source": [
    "### Initialize DataFrame from `sections_dict`"
   ]
  },
  {
   "cell_type": "code",
   "execution_count": 5,
   "id": "4e412a83",
   "metadata": {},
   "outputs": [],
   "source": [
    "section_series = pd.Series(sections_dict)\n",
    "df = pd.DataFrame(section_series, columns=['section'])"
   ]
  },
  {
   "cell_type": "code",
   "execution_count": 6,
   "id": "fb90ae80",
   "metadata": {},
   "outputs": [
    {
     "data": {
      "text/html": [
       "<div>\n",
       "<style scoped>\n",
       "    .dataframe tbody tr th:only-of-type {\n",
       "        vertical-align: middle;\n",
       "    }\n",
       "\n",
       "    .dataframe tbody tr th {\n",
       "        vertical-align: top;\n",
       "    }\n",
       "\n",
       "    .dataframe thead th {\n",
       "        text-align: right;\n",
       "    }\n",
       "</style>\n",
       "<table border=\"1\" class=\"dataframe\">\n",
       "  <thead>\n",
       "    <tr style=\"text-align: right;\">\n",
       "      <th></th>\n",
       "      <th>section</th>\n",
       "    </tr>\n",
       "  </thead>\n",
       "  <tbody>\n",
       "    <tr>\n",
       "      <th>10.1103/PhysRevB.99.054101</th>\n",
       "      <td>sect-articles-structure-structural-phase-trans...</td>\n",
       "    </tr>\n",
       "    <tr>\n",
       "      <th>10.1103/PhysRevB.99.054102</th>\n",
       "      <td>sect-articles-structure-structural-phase-trans...</td>\n",
       "    </tr>\n",
       "    <tr>\n",
       "      <th>10.1103/PhysRevB.99.054103</th>\n",
       "      <td>sect-articles-structure-structural-phase-trans...</td>\n",
       "    </tr>\n",
       "    <tr>\n",
       "      <th>10.1103/PhysRevB.99.054104</th>\n",
       "      <td>sect-articles-structure-structural-phase-trans...</td>\n",
       "    </tr>\n",
       "    <tr>\n",
       "      <th>10.1103/PhysRevB.99.054105</th>\n",
       "      <td>sect-articles-structure-structural-phase-trans...</td>\n",
       "    </tr>\n",
       "  </tbody>\n",
       "</table>\n",
       "</div>"
      ],
      "text/plain": [
       "                                                                      section\n",
       "10.1103/PhysRevB.99.054101  sect-articles-structure-structural-phase-trans...\n",
       "10.1103/PhysRevB.99.054102  sect-articles-structure-structural-phase-trans...\n",
       "10.1103/PhysRevB.99.054103  sect-articles-structure-structural-phase-trans...\n",
       "10.1103/PhysRevB.99.054104  sect-articles-structure-structural-phase-trans...\n",
       "10.1103/PhysRevB.99.054105  sect-articles-structure-structural-phase-trans..."
      ]
     },
     "execution_count": 6,
     "metadata": {},
     "output_type": "execute_result"
    }
   ],
   "source": [
    "df.head()"
   ]
  },
  {
   "cell_type": "markdown",
   "id": "a83618c2",
   "metadata": {},
   "source": [
    "### Add issue column to DataFrame"
   ]
  },
  {
   "cell_type": "code",
   "execution_count": 7,
   "id": "828bbc9a",
   "metadata": {},
   "outputs": [],
   "source": [
    "issue = '/'.join(url.split('/')[-2:])\n",
    "df['issue'] = pd.Series({doi: issue for doi in unique_dois})"
   ]
  },
  {
   "cell_type": "code",
   "execution_count": 8,
   "id": "8750ef15",
   "metadata": {},
   "outputs": [
    {
     "data": {
      "text/html": [
       "<div>\n",
       "<style scoped>\n",
       "    .dataframe tbody tr th:only-of-type {\n",
       "        vertical-align: middle;\n",
       "    }\n",
       "\n",
       "    .dataframe tbody tr th {\n",
       "        vertical-align: top;\n",
       "    }\n",
       "\n",
       "    .dataframe thead th {\n",
       "        text-align: right;\n",
       "    }\n",
       "</style>\n",
       "<table border=\"1\" class=\"dataframe\">\n",
       "  <thead>\n",
       "    <tr style=\"text-align: right;\">\n",
       "      <th></th>\n",
       "      <th>section</th>\n",
       "      <th>issue</th>\n",
       "    </tr>\n",
       "  </thead>\n",
       "  <tbody>\n",
       "    <tr>\n",
       "      <th>10.1103/PhysRevB.99.054101</th>\n",
       "      <td>sect-articles-structure-structural-phase-trans...</td>\n",
       "      <td>99/5</td>\n",
       "    </tr>\n",
       "    <tr>\n",
       "      <th>10.1103/PhysRevB.99.054102</th>\n",
       "      <td>sect-articles-structure-structural-phase-trans...</td>\n",
       "      <td>99/5</td>\n",
       "    </tr>\n",
       "    <tr>\n",
       "      <th>10.1103/PhysRevB.99.054103</th>\n",
       "      <td>sect-articles-structure-structural-phase-trans...</td>\n",
       "      <td>99/5</td>\n",
       "    </tr>\n",
       "    <tr>\n",
       "      <th>10.1103/PhysRevB.99.054104</th>\n",
       "      <td>sect-articles-structure-structural-phase-trans...</td>\n",
       "      <td>99/5</td>\n",
       "    </tr>\n",
       "    <tr>\n",
       "      <th>10.1103/PhysRevB.99.054105</th>\n",
       "      <td>sect-articles-structure-structural-phase-trans...</td>\n",
       "      <td>99/5</td>\n",
       "    </tr>\n",
       "  </tbody>\n",
       "</table>\n",
       "</div>"
      ],
      "text/plain": [
       "                                                                      section  \\\n",
       "10.1103/PhysRevB.99.054101  sect-articles-structure-structural-phase-trans...   \n",
       "10.1103/PhysRevB.99.054102  sect-articles-structure-structural-phase-trans...   \n",
       "10.1103/PhysRevB.99.054103  sect-articles-structure-structural-phase-trans...   \n",
       "10.1103/PhysRevB.99.054104  sect-articles-structure-structural-phase-trans...   \n",
       "10.1103/PhysRevB.99.054105  sect-articles-structure-structural-phase-trans...   \n",
       "\n",
       "                           issue  \n",
       "10.1103/PhysRevB.99.054101  99/5  \n",
       "10.1103/PhysRevB.99.054102  99/5  \n",
       "10.1103/PhysRevB.99.054103  99/5  \n",
       "10.1103/PhysRevB.99.054104  99/5  \n",
       "10.1103/PhysRevB.99.054105  99/5  "
      ]
     },
     "execution_count": 8,
     "metadata": {},
     "output_type": "execute_result"
    }
   ],
   "source": [
    "df.head()"
   ]
  },
  {
   "cell_type": "markdown",
   "id": "fa5166c2",
   "metadata": {},
   "source": [
    "### Example of the data available once we have the {doi: section} pairs"
   ]
  },
  {
   "cell_type": "markdown",
   "id": "498d28b1",
   "metadata": {},
   "source": [
    "Using the Beautiful Soup library we can nicely print HTML elements retrieved by an XPath using Scrapy.  \n",
    "On the webpage for issue 99/5, each research article is in its own `<div>` element and contains a bunch of metadata from which we can scrape relevant information:"
   ]
  },
  {
   "cell_type": "code",
   "execution_count": 9,
   "id": "f0762b47",
   "metadata": {},
   "outputs": [
    {
     "name": "stdout",
     "output_type": "stream",
     "text": [
      "<div class=\"article panel article-result\" data-id=\"10.1103/PhysRevB.99.054501\">\n",
      " <div class=\"row\">\n",
      "  <div class=\"columns large-9\">\n",
      "   <h6 class=\"tag\">\n",
      "   </h6>\n",
      "   <h5 class=\"title\">\n",
      "    <a href=\"/prb/abstract/10.1103/PhysRevB.99.054501\">\n",
      "     Pressure-induced irreversible evolution of superconductivity in\n",
      "     <math xmlns=\"http://www.w3.org/1998/Math/MathML\">\n",
      "      <mrow>\n",
      "       <mi>\n",
      "        PdB\n",
      "       </mi>\n",
      "       <msub>\n",
      "        <mi mathvariant=\"normal\">\n",
      "         i\n",
      "        </mi>\n",
      "        <mn>\n",
      "         2\n",
      "        </mn>\n",
      "       </msub>\n",
      "      </mrow>\n",
      "     </math>\n",
      "    </a>\n",
      "   </h5>\n",
      "   <h6 class=\"authors\">\n",
      "    Ying Zhou, Xuliang Chen, Chao An, Yonghui Zhou, Langsheng Ling, Jiyong Yang, Chunhua Chen, Lili Zhang, Mingliang Tian, Zhitao Zhang, and Zhaorong Yang\n",
      "   </h6>\n",
      "   <h6 class=\"pub-info\">\n",
      "    Phys. Rev. B\n",
      "    <b>\n",
      "     99\n",
      "    </b>\n",
      "    , 054501 (2019) – Published  4 February 2019\n",
      "   </h6>\n",
      "   <h6 class=\"reveal-abstract\">\n",
      "    <a href=\"\">\n",
      "     Show Abstract\n",
      "     <i class=\"fi-plus\">\n",
      "     </i>\n",
      "    </a>\n",
      "   </h6>\n",
      "   <div class=\"summary\">\n",
      "   </div>\n",
      "  </div>\n",
      "  <div class=\"columns large-3\">\n",
      "   <span class=\"options text-right\">\n",
      "    <a class=\"tiny button left-button\" href=\"/prb/pdf/10.1103/PhysRevB.99.054501\">\n",
      "     PDF\n",
      "    </a>\n",
      "    <a class=\"tiny button right-button\" href=\"/prb/abstract/10.1103/PhysRevB.99.054501?ft=1#fulltext\">\n",
      "     HTML\n",
      "    </a>\n",
      "   </span>\n",
      "  </div>\n",
      " </div>\n",
      "</div>\n"
     ]
    }
   ],
   "source": [
    "html_snippet = section_selector.xpath(doi_xpath[:-9]).extract_first()\n",
    "soup = BeautifulSoup(html_snippet, 'html.parser')\n",
    "print(soup.prettify())"
   ]
  },
  {
   "cell_type": "markdown",
   "id": "072a6d49",
   "metadata": {},
   "source": [
    "As we can see from the output above, the html source retrieved by the XPath *doesn't* include the number of citations or the abstract information.  \n",
    "For that, we will need to go to the web page for each article directly (done later in Section 2)."
   ]
  },
  {
   "cell_type": "markdown",
   "id": "c6adf4cf",
   "metadata": {},
   "source": [
    "### Add `date_published` , `authors`, and `name` to DataFrame"
   ]
  },
  {
   "cell_type": "code",
   "execution_count": 10,
   "id": "83833798",
   "metadata": {},
   "outputs": [],
   "source": [
    "pub_dates_dict = dict()\n",
    "authors_dict = dict()\n",
    "names_dict = dict()\n",
    "\n",
    "# using the {doi: section} dictionary to avoid duplicates\n",
    "# from the highlighted articles part of the web page:\n",
    "for k, v in sections_dict.items():\n",
    "    \n",
    "    sec_selector = sel.xpath(f'//a[@name=\"{v}\"]')\n",
    "    \n",
    "    pub_info_xpath = f'..//div[@data-id=\"{k}\"]//h6[@class=\"pub-info\"]//text()'\n",
    "    pub_info = ''.join(sec_selector.xpath(pub_info_xpath).extract())   \n",
    "    pub_dates_dict[k] = pub_info.split('Published ')[-1]\n",
    "    \n",
    "    authors_xpath = f'..//div[@data-id=\"{k}\"]//h6[@class=\"authors\"]//text()'\n",
    "    authors_info = ''.join(sec_selector.xpath(authors_xpath).extract())\n",
    "    authors_dict[k] = authors_info\n",
    "    \n",
    "    name = ''.join(\n",
    "        sec_selector.xpath(f'..//a[@href=\"/prb/abstract/{k}\"]//text()').extract()\n",
    "    )\n",
    "    names_dict[k] = name\n",
    "\n",
    "df['date_published'] = pd.Series(pub_dates_dict)\n",
    "df['authors'] = pd.Series(authors_dict)\n",
    "df['name'] = pd.Series(names_dict)"
   ]
  },
  {
   "cell_type": "code",
   "execution_count": 11,
   "id": "418d6582",
   "metadata": {},
   "outputs": [
    {
     "data": {
      "text/html": [
       "<div>\n",
       "<style scoped>\n",
       "    .dataframe tbody tr th:only-of-type {\n",
       "        vertical-align: middle;\n",
       "    }\n",
       "\n",
       "    .dataframe tbody tr th {\n",
       "        vertical-align: top;\n",
       "    }\n",
       "\n",
       "    .dataframe thead th {\n",
       "        text-align: right;\n",
       "    }\n",
       "</style>\n",
       "<table border=\"1\" class=\"dataframe\">\n",
       "  <thead>\n",
       "    <tr style=\"text-align: right;\">\n",
       "      <th></th>\n",
       "      <th>section</th>\n",
       "      <th>issue</th>\n",
       "      <th>date_published</th>\n",
       "      <th>authors</th>\n",
       "      <th>name</th>\n",
       "    </tr>\n",
       "  </thead>\n",
       "  <tbody>\n",
       "    <tr>\n",
       "      <th>10.1103/PhysRevB.99.054101</th>\n",
       "      <td>sect-articles-structure-structural-phase-trans...</td>\n",
       "      <td>99/5</td>\n",
       "      <td>5 February 2019</td>\n",
       "      <td>Michal Stekiel, Adrien Girard, Tra Nguyen-Than...</td>\n",
       "      <td>Phonon-driven phase transitions in calcite, do...</td>\n",
       "    </tr>\n",
       "    <tr>\n",
       "      <th>10.1103/PhysRevB.99.054102</th>\n",
       "      <td>sect-articles-structure-structural-phase-trans...</td>\n",
       "      <td>99/5</td>\n",
       "      <td>6 February 2019</td>\n",
       "      <td>Chris J. Pickard</td>\n",
       "      <td>Hyperspatial optimization of structures</td>\n",
       "    </tr>\n",
       "    <tr>\n",
       "      <th>10.1103/PhysRevB.99.054103</th>\n",
       "      <td>sect-articles-structure-structural-phase-trans...</td>\n",
       "      <td>99/5</td>\n",
       "      <td>7 February 2019</td>\n",
       "      <td>Wen Wang, Jian Shen, and Q.-C. He</td>\n",
       "      <td>Microscale superlubricity of graphite under va...</td>\n",
       "    </tr>\n",
       "    <tr>\n",
       "      <th>10.1103/PhysRevB.99.054104</th>\n",
       "      <td>sect-articles-structure-structural-phase-trans...</td>\n",
       "      <td>99/5</td>\n",
       "      <td>11 February 2019</td>\n",
       "      <td>V. B. Eltsov, A. Gordeev, and M. Krusius</td>\n",
       "      <td>Kelvin-Helmholtz instability of AB interface i...</td>\n",
       "    </tr>\n",
       "    <tr>\n",
       "      <th>10.1103/PhysRevB.99.054105</th>\n",
       "      <td>sect-articles-structure-structural-phase-trans...</td>\n",
       "      <td>99/5</td>\n",
       "      <td>21 February 2019</td>\n",
       "      <td>Xiaoying Zhuang, Bo He, Brahmanandam Javvaji, ...</td>\n",
       "      <td>Intrinsic bending flexoelectric constants in t...</td>\n",
       "    </tr>\n",
       "  </tbody>\n",
       "</table>\n",
       "</div>"
      ],
      "text/plain": [
       "                                                                      section  \\\n",
       "10.1103/PhysRevB.99.054101  sect-articles-structure-structural-phase-trans...   \n",
       "10.1103/PhysRevB.99.054102  sect-articles-structure-structural-phase-trans...   \n",
       "10.1103/PhysRevB.99.054103  sect-articles-structure-structural-phase-trans...   \n",
       "10.1103/PhysRevB.99.054104  sect-articles-structure-structural-phase-trans...   \n",
       "10.1103/PhysRevB.99.054105  sect-articles-structure-structural-phase-trans...   \n",
       "\n",
       "                           issue    date_published  \\\n",
       "10.1103/PhysRevB.99.054101  99/5   5 February 2019   \n",
       "10.1103/PhysRevB.99.054102  99/5   6 February 2019   \n",
       "10.1103/PhysRevB.99.054103  99/5   7 February 2019   \n",
       "10.1103/PhysRevB.99.054104  99/5  11 February 2019   \n",
       "10.1103/PhysRevB.99.054105  99/5  21 February 2019   \n",
       "\n",
       "                                                                      authors  \\\n",
       "10.1103/PhysRevB.99.054101  Michal Stekiel, Adrien Girard, Tra Nguyen-Than...   \n",
       "10.1103/PhysRevB.99.054102                                   Chris J. Pickard   \n",
       "10.1103/PhysRevB.99.054103                  Wen Wang, Jian Shen, and Q.-C. He   \n",
       "10.1103/PhysRevB.99.054104           V. B. Eltsov, A. Gordeev, and M. Krusius   \n",
       "10.1103/PhysRevB.99.054105  Xiaoying Zhuang, Bo He, Brahmanandam Javvaji, ...   \n",
       "\n",
       "                                                                         name  \n",
       "10.1103/PhysRevB.99.054101  Phonon-driven phase transitions in calcite, do...  \n",
       "10.1103/PhysRevB.99.054102            Hyperspatial optimization of structures  \n",
       "10.1103/PhysRevB.99.054103  Microscale superlubricity of graphite under va...  \n",
       "10.1103/PhysRevB.99.054104  Kelvin-Helmholtz instability of AB interface i...  \n",
       "10.1103/PhysRevB.99.054105  Intrinsic bending flexoelectric constants in t...  "
      ]
     },
     "execution_count": 11,
     "metadata": {},
     "output_type": "execute_result"
    }
   ],
   "source": [
    "df.head()"
   ]
  },
  {
   "cell_type": "markdown",
   "id": "90f83bd2",
   "metadata": {},
   "source": [
    "### Add `is_highlighted` column to DataFrame"
   ]
  },
  {
   "cell_type": "code",
   "execution_count": 12,
   "id": "5998fd94",
   "metadata": {},
   "outputs": [],
   "source": [
    "selector = sel.xpath('//a[@name=\"sect-highlighted-articles\"]')\n",
    "highlighted_xpath ='../div[@class=\"article panel article-result\"]/@data-id'\n",
    "highlighted_articles = selector.xpath(highlighted_xpath).extract()\n",
    "\n",
    "is_highlighted_dict = dict()\n",
    "\n",
    "for i, article in enumerate(df.index):\n",
    "    if article in highlighted_articles:\n",
    "        is_highlighted_dict[article] = True\n",
    "    else:\n",
    "        is_highlighted_dict[article] = False\n",
    "\n",
    "is_highlighted_series = pd.Series(is_highlighted_dict)\n",
    "df[\"is_highlighted\"] = is_highlighted_series"
   ]
  },
  {
   "cell_type": "code",
   "execution_count": 13,
   "id": "8e149aad",
   "metadata": {},
   "outputs": [
    {
     "data": {
      "text/html": [
       "<div>\n",
       "<style scoped>\n",
       "    .dataframe tbody tr th:only-of-type {\n",
       "        vertical-align: middle;\n",
       "    }\n",
       "\n",
       "    .dataframe tbody tr th {\n",
       "        vertical-align: top;\n",
       "    }\n",
       "\n",
       "    .dataframe thead th {\n",
       "        text-align: right;\n",
       "    }\n",
       "</style>\n",
       "<table border=\"1\" class=\"dataframe\">\n",
       "  <thead>\n",
       "    <tr style=\"text-align: right;\">\n",
       "      <th></th>\n",
       "      <th>section</th>\n",
       "      <th>issue</th>\n",
       "      <th>date_published</th>\n",
       "      <th>authors</th>\n",
       "      <th>name</th>\n",
       "      <th>is_highlighted</th>\n",
       "    </tr>\n",
       "  </thead>\n",
       "  <tbody>\n",
       "    <tr>\n",
       "      <th>10.1103/PhysRevB.99.054101</th>\n",
       "      <td>sect-articles-structure-structural-phase-trans...</td>\n",
       "      <td>99/5</td>\n",
       "      <td>5 February 2019</td>\n",
       "      <td>Michal Stekiel, Adrien Girard, Tra Nguyen-Than...</td>\n",
       "      <td>Phonon-driven phase transitions in calcite, do...</td>\n",
       "      <td>False</td>\n",
       "    </tr>\n",
       "    <tr>\n",
       "      <th>10.1103/PhysRevB.99.054102</th>\n",
       "      <td>sect-articles-structure-structural-phase-trans...</td>\n",
       "      <td>99/5</td>\n",
       "      <td>6 February 2019</td>\n",
       "      <td>Chris J. Pickard</td>\n",
       "      <td>Hyperspatial optimization of structures</td>\n",
       "      <td>True</td>\n",
       "    </tr>\n",
       "    <tr>\n",
       "      <th>10.1103/PhysRevB.99.054103</th>\n",
       "      <td>sect-articles-structure-structural-phase-trans...</td>\n",
       "      <td>99/5</td>\n",
       "      <td>7 February 2019</td>\n",
       "      <td>Wen Wang, Jian Shen, and Q.-C. He</td>\n",
       "      <td>Microscale superlubricity of graphite under va...</td>\n",
       "      <td>False</td>\n",
       "    </tr>\n",
       "    <tr>\n",
       "      <th>10.1103/PhysRevB.99.054104</th>\n",
       "      <td>sect-articles-structure-structural-phase-trans...</td>\n",
       "      <td>99/5</td>\n",
       "      <td>11 February 2019</td>\n",
       "      <td>V. B. Eltsov, A. Gordeev, and M. Krusius</td>\n",
       "      <td>Kelvin-Helmholtz instability of AB interface i...</td>\n",
       "      <td>False</td>\n",
       "    </tr>\n",
       "    <tr>\n",
       "      <th>10.1103/PhysRevB.99.054105</th>\n",
       "      <td>sect-articles-structure-structural-phase-trans...</td>\n",
       "      <td>99/5</td>\n",
       "      <td>21 February 2019</td>\n",
       "      <td>Xiaoying Zhuang, Bo He, Brahmanandam Javvaji, ...</td>\n",
       "      <td>Intrinsic bending flexoelectric constants in t...</td>\n",
       "      <td>False</td>\n",
       "    </tr>\n",
       "  </tbody>\n",
       "</table>\n",
       "</div>"
      ],
      "text/plain": [
       "                                                                      section  \\\n",
       "10.1103/PhysRevB.99.054101  sect-articles-structure-structural-phase-trans...   \n",
       "10.1103/PhysRevB.99.054102  sect-articles-structure-structural-phase-trans...   \n",
       "10.1103/PhysRevB.99.054103  sect-articles-structure-structural-phase-trans...   \n",
       "10.1103/PhysRevB.99.054104  sect-articles-structure-structural-phase-trans...   \n",
       "10.1103/PhysRevB.99.054105  sect-articles-structure-structural-phase-trans...   \n",
       "\n",
       "                           issue    date_published  \\\n",
       "10.1103/PhysRevB.99.054101  99/5   5 February 2019   \n",
       "10.1103/PhysRevB.99.054102  99/5   6 February 2019   \n",
       "10.1103/PhysRevB.99.054103  99/5   7 February 2019   \n",
       "10.1103/PhysRevB.99.054104  99/5  11 February 2019   \n",
       "10.1103/PhysRevB.99.054105  99/5  21 February 2019   \n",
       "\n",
       "                                                                      authors  \\\n",
       "10.1103/PhysRevB.99.054101  Michal Stekiel, Adrien Girard, Tra Nguyen-Than...   \n",
       "10.1103/PhysRevB.99.054102                                   Chris J. Pickard   \n",
       "10.1103/PhysRevB.99.054103                  Wen Wang, Jian Shen, and Q.-C. He   \n",
       "10.1103/PhysRevB.99.054104           V. B. Eltsov, A. Gordeev, and M. Krusius   \n",
       "10.1103/PhysRevB.99.054105  Xiaoying Zhuang, Bo He, Brahmanandam Javvaji, ...   \n",
       "\n",
       "                                                                         name  \\\n",
       "10.1103/PhysRevB.99.054101  Phonon-driven phase transitions in calcite, do...   \n",
       "10.1103/PhysRevB.99.054102            Hyperspatial optimization of structures   \n",
       "10.1103/PhysRevB.99.054103  Microscale superlubricity of graphite under va...   \n",
       "10.1103/PhysRevB.99.054104  Kelvin-Helmholtz instability of AB interface i...   \n",
       "10.1103/PhysRevB.99.054105  Intrinsic bending flexoelectric constants in t...   \n",
       "\n",
       "                            is_highlighted  \n",
       "10.1103/PhysRevB.99.054101           False  \n",
       "10.1103/PhysRevB.99.054102            True  \n",
       "10.1103/PhysRevB.99.054103           False  \n",
       "10.1103/PhysRevB.99.054104           False  \n",
       "10.1103/PhysRevB.99.054105           False  "
      ]
     },
     "execution_count": 13,
     "metadata": {},
     "output_type": "execute_result"
    }
   ],
   "source": [
    "df.head()"
   ]
  },
  {
   "cell_type": "markdown",
   "id": "eb977cb3",
   "metadata": {},
   "source": [
    "Printing just the highlighted articles"
   ]
  },
  {
   "cell_type": "code",
   "execution_count": 14,
   "id": "35caa676",
   "metadata": {
    "scrolled": false
   },
   "outputs": [
    {
     "data": {
      "text/html": [
       "<div>\n",
       "<style scoped>\n",
       "    .dataframe tbody tr th:only-of-type {\n",
       "        vertical-align: middle;\n",
       "    }\n",
       "\n",
       "    .dataframe tbody tr th {\n",
       "        vertical-align: top;\n",
       "    }\n",
       "\n",
       "    .dataframe thead th {\n",
       "        text-align: right;\n",
       "    }\n",
       "</style>\n",
       "<table border=\"1\" class=\"dataframe\">\n",
       "  <thead>\n",
       "    <tr style=\"text-align: right;\">\n",
       "      <th></th>\n",
       "      <th>section</th>\n",
       "      <th>issue</th>\n",
       "      <th>date_published</th>\n",
       "      <th>authors</th>\n",
       "      <th>name</th>\n",
       "      <th>is_highlighted</th>\n",
       "    </tr>\n",
       "  </thead>\n",
       "  <tbody>\n",
       "    <tr>\n",
       "      <th>10.1103/PhysRevB.99.054102</th>\n",
       "      <td>sect-articles-structure-structural-phase-trans...</td>\n",
       "      <td>99/5</td>\n",
       "      <td>6 February 2019</td>\n",
       "      <td>Chris J. Pickard</td>\n",
       "      <td>Hyperspatial optimization of structures</td>\n",
       "      <td>True</td>\n",
       "    </tr>\n",
       "    <tr>\n",
       "      <th>10.1103/PhysRevB.99.054404</th>\n",
       "      <td>sect-articles-magnetism</td>\n",
       "      <td>99/5</td>\n",
       "      <td>6 February 2019</td>\n",
       "      <td>Guo-Qiang Zhang and J. Q. You</td>\n",
       "      <td>Higher-order exceptional point in a cavity mag...</td>\n",
       "      <td>True</td>\n",
       "    </tr>\n",
       "    <tr>\n",
       "      <th>10.1103/PhysRevB.99.054430</th>\n",
       "      <td>sect-articles-magnetism</td>\n",
       "      <td>99/5</td>\n",
       "      <td>26 February 2019</td>\n",
       "      <td>B. F. McKeever, D. R. Rodrigues, D. Pinna, Ar....</td>\n",
       "      <td>Characterizing breathing dynamics of magnetic ...</td>\n",
       "      <td>True</td>\n",
       "    </tr>\n",
       "    <tr>\n",
       "      <th>10.1103/PhysRevB.99.054505</th>\n",
       "      <td>sect-articles-superfluidity-and-superconductivity</td>\n",
       "      <td>99/5</td>\n",
       "      <td>13 February 2019</td>\n",
       "      <td>Bitan Roy, Sayed Ali Akbar Ghorashi, Matthew S...</td>\n",
       "      <td>Topological superconductivity of spin-3/2 carr...</td>\n",
       "      <td>True</td>\n",
       "    </tr>\n",
       "    <tr>\n",
       "      <th>10.1103/PhysRevB.99.054516</th>\n",
       "      <td>sect-articles-superfluidity-and-superconductivity</td>\n",
       "      <td>99/5</td>\n",
       "      <td>25 February 2019</td>\n",
       "      <td>Subir Sachdev, Harley D. Scammell, Mathias S. ...</td>\n",
       "      <td>Gauge theory for the cuprates near optimal doping</td>\n",
       "      <td>True</td>\n",
       "    </tr>\n",
       "  </tbody>\n",
       "</table>\n",
       "</div>"
      ],
      "text/plain": [
       "                                                                      section  \\\n",
       "10.1103/PhysRevB.99.054102  sect-articles-structure-structural-phase-trans...   \n",
       "10.1103/PhysRevB.99.054404                            sect-articles-magnetism   \n",
       "10.1103/PhysRevB.99.054430                            sect-articles-magnetism   \n",
       "10.1103/PhysRevB.99.054505  sect-articles-superfluidity-and-superconductivity   \n",
       "10.1103/PhysRevB.99.054516  sect-articles-superfluidity-and-superconductivity   \n",
       "\n",
       "                           issue    date_published  \\\n",
       "10.1103/PhysRevB.99.054102  99/5   6 February 2019   \n",
       "10.1103/PhysRevB.99.054404  99/5   6 February 2019   \n",
       "10.1103/PhysRevB.99.054430  99/5  26 February 2019   \n",
       "10.1103/PhysRevB.99.054505  99/5  13 February 2019   \n",
       "10.1103/PhysRevB.99.054516  99/5  25 February 2019   \n",
       "\n",
       "                                                                      authors  \\\n",
       "10.1103/PhysRevB.99.054102                                   Chris J. Pickard   \n",
       "10.1103/PhysRevB.99.054404                      Guo-Qiang Zhang and J. Q. You   \n",
       "10.1103/PhysRevB.99.054430  B. F. McKeever, D. R. Rodrigues, D. Pinna, Ar....   \n",
       "10.1103/PhysRevB.99.054505  Bitan Roy, Sayed Ali Akbar Ghorashi, Matthew S...   \n",
       "10.1103/PhysRevB.99.054516  Subir Sachdev, Harley D. Scammell, Mathias S. ...   \n",
       "\n",
       "                                                                         name  \\\n",
       "10.1103/PhysRevB.99.054102            Hyperspatial optimization of structures   \n",
       "10.1103/PhysRevB.99.054404  Higher-order exceptional point in a cavity mag...   \n",
       "10.1103/PhysRevB.99.054430  Characterizing breathing dynamics of magnetic ...   \n",
       "10.1103/PhysRevB.99.054505  Topological superconductivity of spin-3/2 carr...   \n",
       "10.1103/PhysRevB.99.054516  Gauge theory for the cuprates near optimal doping   \n",
       "\n",
       "                            is_highlighted  \n",
       "10.1103/PhysRevB.99.054102            True  \n",
       "10.1103/PhysRevB.99.054404            True  \n",
       "10.1103/PhysRevB.99.054430            True  \n",
       "10.1103/PhysRevB.99.054505            True  \n",
       "10.1103/PhysRevB.99.054516            True  "
      ]
     },
     "execution_count": 14,
     "metadata": {},
     "output_type": "execute_result"
    }
   ],
   "source": [
    "df[df['is_highlighted']]"
   ]
  },
  {
   "cell_type": "markdown",
   "id": "c9b3fdd5",
   "metadata": {},
   "source": [
    "### Saving the data to a csv file"
   ]
  },
  {
   "cell_type": "code",
   "execution_count": 15,
   "id": "1f271ab6",
   "metadata": {},
   "outputs": [],
   "source": [
    "df.to_csv('issue_99_5.csv')"
   ]
  },
  {
   "cell_type": "code",
   "execution_count": 16,
   "id": "144f3e68",
   "metadata": {
    "scrolled": true
   },
   "outputs": [
    {
     "name": "stdout",
     "output_type": "stream",
     "text": [
      ",section,issue,date_published,authors,name,is_highlighted\r\n",
      "10.1103/PhysRevB.99.054101,sect-articles-structure-structural-phase-transitions-mechanical-properties-defects,99/5, 5 February 2019,\"Michal Stekiel, Adrien Girard, Tra Nguyen-Thanh, Alexei Bosak, Victor Milman, and Bjoern Winkler\",\"Phonon-driven phase transitions in calcite, dolomite, and magnesite\",False\r\n"
     ]
    }
   ],
   "source": [
    "!head -2 issue_99_5.csv"
   ]
  },
  {
   "cell_type": "markdown",
   "id": "51287690",
   "metadata": {},
   "source": [
    "Showing how to import the data, and converting `date_published` to datetimes:"
   ]
  },
  {
   "cell_type": "code",
   "execution_count": 17,
   "id": "f6000ccb",
   "metadata": {},
   "outputs": [
    {
     "data": {
      "text/html": [
       "<div>\n",
       "<style scoped>\n",
       "    .dataframe tbody tr th:only-of-type {\n",
       "        vertical-align: middle;\n",
       "    }\n",
       "\n",
       "    .dataframe tbody tr th {\n",
       "        vertical-align: top;\n",
       "    }\n",
       "\n",
       "    .dataframe thead th {\n",
       "        text-align: right;\n",
       "    }\n",
       "</style>\n",
       "<table border=\"1\" class=\"dataframe\">\n",
       "  <thead>\n",
       "    <tr style=\"text-align: right;\">\n",
       "      <th></th>\n",
       "      <th>section</th>\n",
       "      <th>issue</th>\n",
       "      <th>date_published</th>\n",
       "      <th>authors</th>\n",
       "      <th>name</th>\n",
       "      <th>is_highlighted</th>\n",
       "    </tr>\n",
       "  </thead>\n",
       "  <tbody>\n",
       "    <tr>\n",
       "      <th>10.1103/PhysRevB.99.054101</th>\n",
       "      <td>sect-articles-structure-structural-phase-trans...</td>\n",
       "      <td>99/5</td>\n",
       "      <td>2019-02-05</td>\n",
       "      <td>Michal Stekiel, Adrien Girard, Tra Nguyen-Than...</td>\n",
       "      <td>Phonon-driven phase transitions in calcite, do...</td>\n",
       "      <td>False</td>\n",
       "    </tr>\n",
       "    <tr>\n",
       "      <th>10.1103/PhysRevB.99.054102</th>\n",
       "      <td>sect-articles-structure-structural-phase-trans...</td>\n",
       "      <td>99/5</td>\n",
       "      <td>2019-02-06</td>\n",
       "      <td>Chris J. Pickard</td>\n",
       "      <td>Hyperspatial optimization of structures</td>\n",
       "      <td>True</td>\n",
       "    </tr>\n",
       "    <tr>\n",
       "      <th>10.1103/PhysRevB.99.054103</th>\n",
       "      <td>sect-articles-structure-structural-phase-trans...</td>\n",
       "      <td>99/5</td>\n",
       "      <td>2019-02-07</td>\n",
       "      <td>Wen Wang, Jian Shen, and Q.-C. He</td>\n",
       "      <td>Microscale superlubricity of graphite under va...</td>\n",
       "      <td>False</td>\n",
       "    </tr>\n",
       "    <tr>\n",
       "      <th>10.1103/PhysRevB.99.054104</th>\n",
       "      <td>sect-articles-structure-structural-phase-trans...</td>\n",
       "      <td>99/5</td>\n",
       "      <td>2019-02-11</td>\n",
       "      <td>V. B. Eltsov, A. Gordeev, and M. Krusius</td>\n",
       "      <td>Kelvin-Helmholtz instability of AB interface i...</td>\n",
       "      <td>False</td>\n",
       "    </tr>\n",
       "    <tr>\n",
       "      <th>10.1103/PhysRevB.99.054105</th>\n",
       "      <td>sect-articles-structure-structural-phase-trans...</td>\n",
       "      <td>99/5</td>\n",
       "      <td>2019-02-21</td>\n",
       "      <td>Xiaoying Zhuang, Bo He, Brahmanandam Javvaji, ...</td>\n",
       "      <td>Intrinsic bending flexoelectric constants in t...</td>\n",
       "      <td>False</td>\n",
       "    </tr>\n",
       "  </tbody>\n",
       "</table>\n",
       "</div>"
      ],
      "text/plain": [
       "                                                                      section  \\\n",
       "10.1103/PhysRevB.99.054101  sect-articles-structure-structural-phase-trans...   \n",
       "10.1103/PhysRevB.99.054102  sect-articles-structure-structural-phase-trans...   \n",
       "10.1103/PhysRevB.99.054103  sect-articles-structure-structural-phase-trans...   \n",
       "10.1103/PhysRevB.99.054104  sect-articles-structure-structural-phase-trans...   \n",
       "10.1103/PhysRevB.99.054105  sect-articles-structure-structural-phase-trans...   \n",
       "\n",
       "                           issue date_published  \\\n",
       "10.1103/PhysRevB.99.054101  99/5     2019-02-05   \n",
       "10.1103/PhysRevB.99.054102  99/5     2019-02-06   \n",
       "10.1103/PhysRevB.99.054103  99/5     2019-02-07   \n",
       "10.1103/PhysRevB.99.054104  99/5     2019-02-11   \n",
       "10.1103/PhysRevB.99.054105  99/5     2019-02-21   \n",
       "\n",
       "                                                                      authors  \\\n",
       "10.1103/PhysRevB.99.054101  Michal Stekiel, Adrien Girard, Tra Nguyen-Than...   \n",
       "10.1103/PhysRevB.99.054102                                   Chris J. Pickard   \n",
       "10.1103/PhysRevB.99.054103                  Wen Wang, Jian Shen, and Q.-C. He   \n",
       "10.1103/PhysRevB.99.054104           V. B. Eltsov, A. Gordeev, and M. Krusius   \n",
       "10.1103/PhysRevB.99.054105  Xiaoying Zhuang, Bo He, Brahmanandam Javvaji, ...   \n",
       "\n",
       "                                                                         name  \\\n",
       "10.1103/PhysRevB.99.054101  Phonon-driven phase transitions in calcite, do...   \n",
       "10.1103/PhysRevB.99.054102            Hyperspatial optimization of structures   \n",
       "10.1103/PhysRevB.99.054103  Microscale superlubricity of graphite under va...   \n",
       "10.1103/PhysRevB.99.054104  Kelvin-Helmholtz instability of AB interface i...   \n",
       "10.1103/PhysRevB.99.054105  Intrinsic bending flexoelectric constants in t...   \n",
       "\n",
       "                            is_highlighted  \n",
       "10.1103/PhysRevB.99.054101           False  \n",
       "10.1103/PhysRevB.99.054102            True  \n",
       "10.1103/PhysRevB.99.054103           False  \n",
       "10.1103/PhysRevB.99.054104           False  \n",
       "10.1103/PhysRevB.99.054105           False  "
      ]
     },
     "execution_count": 17,
     "metadata": {},
     "output_type": "execute_result"
    }
   ],
   "source": [
    "data = pd.read_csv('issue_99_5.csv', index_col=[0],parse_dates=[3])\n",
    "data.head()"
   ]
  },
  {
   "cell_type": "markdown",
   "id": "9fd76058",
   "metadata": {},
   "source": [
    "## 1a: Extension to all issues from 2019"
   ]
  },
  {
   "cell_type": "markdown",
   "id": "209cbb96",
   "metadata": {},
   "source": [
    "The code in the previous section doesn't yet fully extend to every single issue in 2019, because different issues sort the research papers into different sections of condensed matter physics. For example, issue 99/3 uses the following section titles:\n",
    "\n",
    "    Electronic structure and strongly correlated systems\n",
    "    Semiconductors I: bulk\n",
    "    Semiconductors II: surfaces, interfaces, microstructures, and related topics\n",
    "    Surface physics, nanoscale physics, low-dimensional systems\n",
    "\n",
    "none of which are used in issue 99/5."
   ]
  },
  {
   "cell_type": "markdown",
   "id": "1b4467c1",
   "metadata": {},
   "source": [
    "### Retrieving section names"
   ]
  },
  {
   "cell_type": "markdown",
   "id": "e4740c20",
   "metadata": {},
   "source": [
    "Rather than manually note down all of the different sections used, we can simply scrape the different `section` headings from the web url itself. E.g."
   ]
  },
  {
   "cell_type": "code",
   "execution_count": 18,
   "id": "5888bf64",
   "metadata": {},
   "outputs": [
    {
     "data": {
      "text/plain": [
       "['sect-articles-electronic-structure-and-strongly-correlated-systems',\n",
       " 'sect-articles-semiconductors-i-bulk',\n",
       " 'sect-articles-semiconductors-ii-surfaces-interfaces-microstructures-and-related-topics',\n",
       " 'sect-articles-surface-physics-nanoscale-physics-low-dimensional-systems']"
      ]
     },
     "execution_count": 18,
     "metadata": {},
     "output_type": "execute_result"
    }
   ],
   "source": [
    "url = 'https://journals.aps.org/prb/issues/99/3'\n",
    "html = requests.get(url).content\n",
    "sel = Selector(text = html)\n",
    "\n",
    "section_selectors = sel.xpath('//a[contains(@name,\"sect-articles-\")]')\n",
    "section_names = section_selectors.xpath('./@name').extract()\n",
    "section_names"
   ]
  },
  {
   "cell_type": "markdown",
   "id": "3405ce70",
   "metadata": {},
   "source": [
    "Now the steps taken previously in this notebook may be applied to any weekly issue in 2019."
   ]
  },
  {
   "cell_type": "markdown",
   "id": "23f3a634",
   "metadata": {},
   "source": [
    "### Python package information"
   ]
  },
  {
   "cell_type": "markdown",
   "id": "b81ebf34",
   "metadata": {},
   "source": [
    "The routine described above has been placed into the function `get_issue_data` inside a python package `scrape` in the GitHub repo where this notebook lives. All issue metadata from 2019 can now be gathered in a new notebook for data analysis with just a few lines of code:\n",
    "\n",
    "\n",
    "```python\n",
    "import pandas as pd\n",
    "from scrape.data import get_issue_data\n",
    "\n",
    "url_list = [f'https://journals.aps.org/prb/issues/{j}/' \n",
    "            + str(i+1) for j in [99,100] for i in range(24)]\n",
    "df_list = []\n",
    "for u in url_list:\n",
    "    df_list.append(get_issue_data(url = u,force_download=True))\n",
    "    time.sleep(random.randint(1,5)) # wait a bit before sending another request\n",
    "    \n",
    "df = pd.concat(df_list)\n",
    "df.to_csv('all_issues_2019_no_citation_data.csv')\n",
    "```"
   ]
  },
  {
   "cell_type": "markdown",
   "id": "a793d362",
   "metadata": {},
   "source": [
    "### Final notes"
   ]
  },
  {
   "cell_type": "markdown",
   "id": "ea461d0d",
   "metadata": {},
   "source": [
    "Some final notes, for anyone interested in extending the code developed above: \n",
    "\n",
    "* After December 2020, Physical Review B dropped their *\"Rapid Communications\"* feature in place of *\"Letters\"*, which is the hallmark publication type for the sibling journal Physical Review Letters.\n",
    "\n",
    "* Therefore, an extension to the code in my python package could be to additionally include a `publication_type` column, by simply including a similar line such as `section_selectors = sel.xpath('//a[contains(@name,\"sect-letters-\")]')` in the python function `get_issue_data`. \n",
    "* The code outlined above then can easily be extended to research papers published after 2020, and also any publications in Physical Review Letters or any other APS journals that separate research papers into \"Letters\" and \"Articles\"."
   ]
  },
  {
   "cell_type": "markdown",
   "id": "b9a731ad",
   "metadata": {},
   "source": [
    "## 2: Get number of citations for each DOI from PRB"
   ]
  },
  {
   "cell_type": "markdown",
   "id": "4632b204",
   "metadata": {},
   "source": [
    "The number of citations for a particular article has to be obtained from that article's page, which also contains the abstract information. Since citation numbers will vary, while the rest of the metadata is fixed at the time of publication, it makes sense to do this step separately.\n",
    "\n",
    "Fields to obtain\n",
    "\n",
    "* ✅ prb_citations\n",
    "* abstract (if we want to do analysis on keywords)\n",
    "\n",
    "With the data fields described in Section 1, `all_issues_2019_no_citation_data.csv` has a file size of 1.3MB. This will become notably larger if we also scrape the abstract text, so I will skip this for now."
   ]
  },
  {
   "cell_type": "code",
   "execution_count": 19,
   "id": "6b7f8854",
   "metadata": {},
   "outputs": [],
   "source": [
    "article_base_url = 'https://journals.aps.org/prb/abstract/'"
   ]
  },
  {
   "cell_type": "markdown",
   "id": "519d446a",
   "metadata": {},
   "source": [
    "### Retrieve citation number for a single DOI"
   ]
  },
  {
   "cell_type": "code",
   "execution_count": 20,
   "id": "a799877a",
   "metadata": {},
   "outputs": [
    {
     "name": "stdout",
     "output_type": "stream",
     "text": [
      "doi =  10.1103/PhysRevB.99.054303 \t citations =  42\n"
     ]
    }
   ],
   "source": [
    "article_url = article_base_url + unique_dois[0]\n",
    "html = requests.get(article_url).content\n",
    "\n",
    "sel = Selector(text = html)\n",
    "\n",
    "s = sel.xpath('//a[contains(@href,\"cited-by\")]/text()').extract_first()\n",
    "citations = int(s.replace(\"Citing Articles \",\"\")[1:-1])\n",
    "\n",
    "print('doi = ', unique_dois[0], '\\t citations = ', citations)"
   ]
  },
  {
   "cell_type": "markdown",
   "id": "2dfec908",
   "metadata": {},
   "source": [
    "### Retrieve citation numbers for all DOIs"
   ]
  },
  {
   "cell_type": "markdown",
   "id": "d1f26513",
   "metadata": {},
   "source": [
    "Since retrieving citation numbers involves sending one request per research paper to the website's servers, it is a good idea to include a `time.sleep()` to not be identified as a DoS attack and therefore IP blocked. \n",
    "\n",
    "There are 82 research papers in issue 99/5. By including a random time delay between each request, retrieving all of the citation numbers from an issue can take a few minutes. The code below is therefore written such that requests are only sent if we do not already have the data saved locally."
   ]
  },
  {
   "cell_type": "code",
   "execution_count": 21,
   "id": "6a112c35",
   "metadata": {},
   "outputs": [],
   "source": [
    "if not os.path.exists('citations_issue_99_5.csv'):\n",
    "    \n",
    "    citations_dict = dict()\n",
    "    for doi in unique_dois:\n",
    "\n",
    "        article_url = article_base_url + doi\n",
    "        html = requests.get(article_url).content\n",
    "\n",
    "        time.sleep(random.randint(1,5)) # avoid flagging DDoS protective measures\n",
    "\n",
    "        sel = Selector(text = html)\n",
    "        s = sel.xpath('//a[contains(@href,\"cited-by\")]/text()').extract_first()\n",
    "        if s == None:\n",
    "            num_of_citations = 0 \n",
    "        else:\n",
    "            num_of_citations = int(s.replace(\"Citing Articles \",\"\")[1:-1])\n",
    "        citations_dict[doi] = num_of_citations\n",
    "else:\n",
    "    df = pd.read_csv('citations_issue_99_5.csv',index_col=[0],parse_dates=[3])\n",
    "    citations_dict = df['prb_citations'].to_dict()\n",
    "\n",
    "prb_citations = pd.Series(citations_dict)\n",
    "df = pd.DataFrame(prb_citations, columns=['prb_citations'])"
   ]
  },
  {
   "cell_type": "code",
   "execution_count": 22,
   "id": "5644c923",
   "metadata": {},
   "outputs": [
    {
     "data": {
      "text/html": [
       "<div>\n",
       "<style scoped>\n",
       "    .dataframe tbody tr th:only-of-type {\n",
       "        vertical-align: middle;\n",
       "    }\n",
       "\n",
       "    .dataframe tbody tr th {\n",
       "        vertical-align: top;\n",
       "    }\n",
       "\n",
       "    .dataframe thead th {\n",
       "        text-align: right;\n",
       "    }\n",
       "</style>\n",
       "<table border=\"1\" class=\"dataframe\">\n",
       "  <thead>\n",
       "    <tr style=\"text-align: right;\">\n",
       "      <th></th>\n",
       "      <th>prb_citations</th>\n",
       "    </tr>\n",
       "  </thead>\n",
       "  <tbody>\n",
       "    <tr>\n",
       "      <th>10.1103/PhysRevB.99.054101</th>\n",
       "      <td>7</td>\n",
       "    </tr>\n",
       "    <tr>\n",
       "      <th>10.1103/PhysRevB.99.054102</th>\n",
       "      <td>13</td>\n",
       "    </tr>\n",
       "    <tr>\n",
       "      <th>10.1103/PhysRevB.99.054103</th>\n",
       "      <td>19</td>\n",
       "    </tr>\n",
       "    <tr>\n",
       "      <th>10.1103/PhysRevB.99.054104</th>\n",
       "      <td>3</td>\n",
       "    </tr>\n",
       "    <tr>\n",
       "      <th>10.1103/PhysRevB.99.054105</th>\n",
       "      <td>58</td>\n",
       "    </tr>\n",
       "  </tbody>\n",
       "</table>\n",
       "</div>"
      ],
      "text/plain": [
       "                            prb_citations\n",
       "10.1103/PhysRevB.99.054101              7\n",
       "10.1103/PhysRevB.99.054102             13\n",
       "10.1103/PhysRevB.99.054103             19\n",
       "10.1103/PhysRevB.99.054104              3\n",
       "10.1103/PhysRevB.99.054105             58"
      ]
     },
     "execution_count": 22,
     "metadata": {},
     "output_type": "execute_result"
    }
   ],
   "source": [
    "# construct a DataFrame with just citation numbers\n",
    "df.head()"
   ]
  },
  {
   "cell_type": "code",
   "execution_count": 23,
   "id": "c97393f5",
   "metadata": {},
   "outputs": [
    {
     "data": {
      "text/html": [
       "<div>\n",
       "<style scoped>\n",
       "    .dataframe tbody tr th:only-of-type {\n",
       "        vertical-align: middle;\n",
       "    }\n",
       "\n",
       "    .dataframe tbody tr th {\n",
       "        vertical-align: top;\n",
       "    }\n",
       "\n",
       "    .dataframe thead th {\n",
       "        text-align: right;\n",
       "    }\n",
       "</style>\n",
       "<table border=\"1\" class=\"dataframe\">\n",
       "  <thead>\n",
       "    <tr style=\"text-align: right;\">\n",
       "      <th></th>\n",
       "      <th>section</th>\n",
       "      <th>prb_citations</th>\n",
       "    </tr>\n",
       "  </thead>\n",
       "  <tbody>\n",
       "    <tr>\n",
       "      <th>10.1103/PhysRevB.99.054101</th>\n",
       "      <td>sect-articles-structure-structural-phase-trans...</td>\n",
       "      <td>7</td>\n",
       "    </tr>\n",
       "    <tr>\n",
       "      <th>10.1103/PhysRevB.99.054102</th>\n",
       "      <td>sect-articles-structure-structural-phase-trans...</td>\n",
       "      <td>13</td>\n",
       "    </tr>\n",
       "    <tr>\n",
       "      <th>10.1103/PhysRevB.99.054103</th>\n",
       "      <td>sect-articles-structure-structural-phase-trans...</td>\n",
       "      <td>19</td>\n",
       "    </tr>\n",
       "    <tr>\n",
       "      <th>10.1103/PhysRevB.99.054104</th>\n",
       "      <td>sect-articles-structure-structural-phase-trans...</td>\n",
       "      <td>3</td>\n",
       "    </tr>\n",
       "    <tr>\n",
       "      <th>10.1103/PhysRevB.99.054105</th>\n",
       "      <td>sect-articles-structure-structural-phase-trans...</td>\n",
       "      <td>58</td>\n",
       "    </tr>\n",
       "  </tbody>\n",
       "</table>\n",
       "</div>"
      ],
      "text/plain": [
       "                                                                      section  \\\n",
       "10.1103/PhysRevB.99.054101  sect-articles-structure-structural-phase-trans...   \n",
       "10.1103/PhysRevB.99.054102  sect-articles-structure-structural-phase-trans...   \n",
       "10.1103/PhysRevB.99.054103  sect-articles-structure-structural-phase-trans...   \n",
       "10.1103/PhysRevB.99.054104  sect-articles-structure-structural-phase-trans...   \n",
       "10.1103/PhysRevB.99.054105  sect-articles-structure-structural-phase-trans...   \n",
       "\n",
       "                            prb_citations  \n",
       "10.1103/PhysRevB.99.054101              7  \n",
       "10.1103/PhysRevB.99.054102             13  \n",
       "10.1103/PhysRevB.99.054103             19  \n",
       "10.1103/PhysRevB.99.054104              3  \n",
       "10.1103/PhysRevB.99.054105             58  "
      ]
     },
     "execution_count": 23,
     "metadata": {},
     "output_type": "execute_result"
    }
   ],
   "source": [
    "# Contruct a DataFrame which also includes the section info for each article\n",
    "\n",
    "df = pd.DataFrame({'section': sections_dict,'prb_citations': citations_dict})\n",
    "df.head()"
   ]
  },
  {
   "cell_type": "markdown",
   "id": "8f2da64a",
   "metadata": {},
   "source": [
    "### Python Package information"
   ]
  },
  {
   "cell_type": "markdown",
   "id": "d6ff8590",
   "metadata": {},
   "source": [
    "The code outlined above is appreciably simpler than the web scraping code in Section 1 which obtained the rest of the publication metadata. Nonetheless, for convenience and resusability purposes, I have packaged this into a new function `get_citation_data` so the DataFrame is updated with citation numbers and cached locally in a new csv file. Example usage:\n",
    "\n",
    "```python\n",
    "import pandas as pd\n",
    "from scrape.data import get_citation_data\n",
    "\n",
    "infile = 'issue_99_5.csv'\n",
    "outfile = 'citations_issue_99_5.csv'\n",
    "df = get_citation_data(infile=infile,outfile=outfile,journal='prb')\n",
    "```"
   ]
  }
 ],
 "metadata": {
  "kernelspec": {
   "display_name": "python3.11",
   "language": "python",
   "name": "python3.11"
  },
  "language_info": {
   "codemirror_mode": {
    "name": "ipython",
    "version": 3
   },
   "file_extension": ".py",
   "mimetype": "text/x-python",
   "name": "python",
   "nbconvert_exporter": "python",
   "pygments_lexer": "ipython3",
   "version": "3.11.4"
  }
 },
 "nbformat": 4,
 "nbformat_minor": 5
}
